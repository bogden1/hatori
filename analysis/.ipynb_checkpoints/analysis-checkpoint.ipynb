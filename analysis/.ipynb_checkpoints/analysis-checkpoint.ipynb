{
 "cells": [
  {
   "cell_type": "code",
   "execution_count": 58,
   "metadata": {},
   "outputs": [],
   "source": [
    "import nltk\n",
    "import nltk.tokenize\n",
    "import nltk.corpus\n",
    "import nltk.stem\n",
    "\n",
    "import gensim.parsing.preprocessing\n",
    "import gensim\n",
    "\n",
    "import time\n",
    "import string\n",
    "import pickle\n",
    "import matplotlib.pyplot as plt\n",
    "import multiprocessing"
   ]
  },
  {
   "cell_type": "code",
   "execution_count": 2,
   "metadata": {},
   "outputs": [],
   "source": [
    "relevant_pos = {\n",
    "    \"FW\",\n",
    "    \"JJ\",\n",
    "    \"JJR\",\n",
    "    \"JJS\",\n",
    "    \"NN\",\n",
    "    \"NNS\",\n",
    "    \"NP\",\n",
    "    \"NPS\",\n",
    "    \"RB\",\n",
    "    \"RBR\",\n",
    "    \"RBS\",\n",
    "    \"VB\",\n",
    "    \"VBD\",\n",
    "    \"VBG\",\n",
    "    \"VBN\",\n",
    "    \"VBP\",\n",
    "    \"VBZ\",\n",
    "}\n",
    "\n",
    "wordnet_lemmatizer = nltk.stem.SnowballStemmer(\"english\")\n",
    "stops = (set(nltk.corpus.stopwords.words('english')) \n",
    "       | set(gensim.parsing.preprocessing.STOPWORDS) \n",
    "       | set(string.punctuation))\n",
    "any_forbidden = set(\"0123456789*+\")\n",
    "all_forbidden = set(string.punctuation)"
   ]
  },
  {
   "cell_type": "code",
   "execution_count": 3,
   "metadata": {},
   "outputs": [],
   "source": [
    "def debate_tokenize(text):\n",
    "    text = text.replace(\".\", \". \") # happens often enough that it becomes a problem\n",
    "    tokens = nltk.tokenize.word_tokenize(text)\n",
    "    poses = [wordnet_lemmatizer.stem(w).lower()\n",
    "                 for w, p in nltk.pos_tag(tokens)\n",
    "                 if p in relevant_pos]\n",
    "    tokens = [w for w in poses \n",
    "                if w not in stops\n",
    "                and not any(c in any_forbidden for c in w)\n",
    "                and not all(c in all_forbidden for c in w)]\n",
    "    return tokens\n",
    "\n",
    "def stemmer(index, key):\n",
    "    namedate, _, text = key.split(\"\\t\")\n",
    "    tokens = debate_tokenize(text)\n",
    "    name, date = namedate[:10], namedate[10:]\n",
    "    return (index, name, date, tokens)"
   ]
  },
  {
   "cell_type": "code",
   "execution_count": 4,
   "metadata": {
    "scrolled": true
   },
   "outputs": [],
   "source": [
    "pool = multiprocessing.Pool(processes=2)\n",
    "with open(\"data/hansard_debates.tsv\") as stream:\n",
    "    # subdata = [next(stream) for i in range(5000)]\n",
    "    results = [pool.apply_async(stemmer, v) for v in enumerate(stream)]\n",
    "start_time = time.time()"
   ]
  },
  {
   "cell_type": "code",
   "execution_count": null,
   "metadata": {
    "scrolled": true
   },
   "outputs": [
    {
     "name": "stdout",
     "output_type": "stream",
     "text": [
      "938 28021\r"
     ]
    }
   ],
   "source": [
    "# num_done = 25000\n",
    "for i in range(20):\n",
    "    time.sleep(0.5)\n",
    "    num_done += sum(results[i].ready() for i in range(num_done, num_done+500))\n",
    "    print(i, num_done, end=\"\\r\")"
   ]
  },
  {
   "cell_type": "code",
   "execution_count": null,
   "metadata": {},
   "outputs": [],
   "source": [
    "# data = [i.get() for i in results]\n",
    "# with open(\"stemmed.p\", \"wb\") as f:\n",
    "#     pickle.dump(data, f)"
   ]
  },
  {
   "cell_type": "code",
   "execution_count": 2,
   "metadata": {},
   "outputs": [],
   "source": [
    "# with open(\"stemmed.p\", \"rb\") as f:\n",
    "#     data = pickle.load(f)"
   ]
  },
  {
   "cell_type": "code",
   "execution_count": null,
   "metadata": {},
   "outputs": [],
   "source": [
    "counts = {}\n",
    "counter = 0\n",
    "for _, _, l in data:\n",
    "    for w in l:\n",
    "        counts[w] = counts.get(w, 0) + 1\n",
    "    counter += 1\n",
    "    if counter % 100 == 0:\n",
    "            print(\".\", end=\"\")\n",
    "    if counter % 5000 == 0:\n",
    "        print(\" \", counter)\n",
    "sorted([(v, k) for k, v in counts.items()], reverse=True)[:30]\n",
    "excluded = {\"hon\"}"
   ]
  },
  {
   "cell_type": "code",
   "execution_count": null,
   "metadata": {},
   "outputs": [],
   "source": [
    "filtered = [(date, name, [w for w in l if counts[w] >= 200 and w not in excluded]) \n",
    "            for (date, name, l) in data]\n",
    "filtered = [(i, date, name, l) for i, (date, name, l) in enumerate(filtered) if len(l) > 100]\n"
   ]
  },
  {
   "cell_type": "code",
   "execution_count": 59,
   "metadata": {},
   "outputs": [],
   "source": [
    "wordlist = {w for *_, l in filtered for w in l}\n",
    "idmap    = sorted(wordlist)\n",
    "wordmap  = {w:i for i, w in enumerate(idmap)}\n",
    "filtered = [(i, date, name, [wordmap[w] for w in l]) for (i, date, name, l) in filtered]"
   ]
  },
  {
   "cell_type": "code",
   "execution_count": 65,
   "metadata": {},
   "outputs": [],
   "source": [
    "with open(\"filtered.p\", \"wb\") as f:\n",
    "    pickle.dump({\"idmap\" : idmap, \"filtered\" : filtered}, f)"
   ]
  },
  {
   "cell_type": "code",
   "execution_count": 68,
   "metadata": {
    "collapsed": true
   },
   "outputs": [
    {
     "name": "stdout",
     "output_type": "stream",
     "text": [
      "..................................................  5000\n",
      "..................................................  10000\n",
      "..................................................  15000\n",
      "..................................................  20000\n",
      "..................................................  25000\n",
      "..................................................  30000\n",
      "..................................................  35000\n",
      "..................................................  40000\n",
      "..................................................  45000\n",
      "..................................................  50000\n",
      "..................................................  55000\n",
      "............"
     ]
    }
   ],
   "source": [
    "with open(\"filtered.p\", \"rb\") as f:\n",
    "    d = pickle.load(f)\n",
    "    filtered = d[\"filtered\"]\n",
    "    idmap    = d[\"idmap\"]\n",
    "    wordmap  = {w:i for i, w in idmap}"
   ]
  },
  {
   "cell_type": "code",
   "execution_count": null,
   "metadata": {},
   "outputs": [],
   "source": [
    "counts = {}\n",
    "counter = 0\n",
    "for *_, l in filtered:\n",
    "    for w in l:\n",
    "        counts[w] = counts.get(w, 0) + 1\n",
    "    counter += 1\n",
    "    if counter % 100 == 0:\n",
    "            print(\".\", end=\"\")\n",
    "    if counter % 5000 == 0:\n",
    "        print(\" \", counter)"
   ]
  }
 ],
 "metadata": {
  "kernelspec": {
   "display_name": "Python 3",
   "language": "python",
   "name": "python3"
  },
  "language_info": {
   "codemirror_mode": {
    "name": "ipython",
    "version": 3
   },
   "file_extension": ".py",
   "mimetype": "text/x-python",
   "name": "python",
   "nbconvert_exporter": "python",
   "pygments_lexer": "ipython3",
   "version": "3.7.0"
  }
 },
 "nbformat": 4,
 "nbformat_minor": 2
}
